{
 "cells": [
  {
   "cell_type": "code",
   "execution_count": 11,
   "metadata": {},
   "outputs": [],
   "source": [
    "import wfdb\n",
    "import matplotlib.pyplot as plt\n",
    "import numpy as np\n",
    "import os"
   ]
  },
  {
   "cell_type": "code",
   "execution_count": 12,
   "metadata": {},
   "outputs": [],
   "source": [
    "path = 'mit-bih-arrhythmia-database-1.0.0/'\n",
    "record_name = '100'\n",
    "path_with_no_extension = path + record_name\n",
    "record = wfdb.rdrecord(path_with_no_extension)"
   ]
  },
  {
   "cell_type": "code",
   "execution_count": 13,
   "metadata": {},
   "outputs": [
    {
     "name": "stdout",
     "output_type": "stream",
     "text": [
      "['__class__', '__delattr__', '__dict__', '__dir__', '__doc__', '__eq__', '__format__', '__ge__', '__getattribute__', '__getstate__', '__gt__', '__hash__', '__init__', '__init_subclass__', '__le__', '__lt__', '__module__', '__ne__', '__new__', '__reduce__', '__reduce_ex__', '__repr__', '__setattr__', '__sizeof__', '__str__', '__subclasshook__', '__weakref__', '_adjust_datetime', '_arrange_fields', '_auto_signal_file_names', 'adc', 'adc_gain', 'adc_res', 'adc_zero', 'base_counter', 'base_date', 'base_datetime', 'base_time', 'baseline', 'block_size', 'byte_offset', 'calc_adc_params', 'calc_checksum', 'check_field', 'check_field_cohesion', 'check_read_inputs', 'check_sig_cohesion', 'checksum', 'comments', 'convert_dtype', 'counter_freq', 'd_signal', 'dac', 'e_d_signal', 'e_p_signal', 'file_name', 'fmt', 'fs', 'get_absolute_time', 'get_elapsed_time', 'get_frame_number', 'get_write_fields', 'get_write_subset', 'init_value', 'n_sig', 'p_signal', 'record_name', 'samps_per_frame', 'set_d_features', 'set_default', 'set_defaults', 'set_p_features', 'sig_len', 'sig_name', 'skew', 'smooth_frames', 'to_dataframe', 'units', 'wr_dat_files', 'wr_dats', 'wr_header_file', 'wrheader', 'wrsamp']\n"
     ]
    }
   ],
   "source": [
    "print(dir(record))"
   ]
  },
  {
   "cell_type": "code",
   "execution_count": 14,
   "metadata": {},
   "outputs": [
    {
     "name": "stdout",
     "output_type": "stream",
     "text": [
      "360\n"
     ]
    }
   ],
   "source": [
    "data = record.fs\n",
    "print(data)"
   ]
  },
  {
   "cell_type": "code",
   "execution_count": 16,
   "metadata": {},
   "outputs": [
    {
     "ename": "OverflowError",
     "evalue": "Python integer 256 out of bounds for uint8",
     "output_type": "error",
     "traceback": [
      "\u001b[1;31m---------------------------------------------------------------------------\u001b[0m",
      "\u001b[1;31mOverflowError\u001b[0m                             Traceback (most recent call last)",
      "Cell \u001b[1;32mIn[16], line 1\u001b[0m\n\u001b[1;32m----> 1\u001b[0m annotation \u001b[38;5;241m=\u001b[39m \u001b[43mwfdb\u001b[49m\u001b[38;5;241;43m.\u001b[39;49m\u001b[43mrdann\u001b[49m\u001b[43m(\u001b[49m\u001b[43mpath_with_no_extension\u001b[49m\u001b[43m,\u001b[49m\u001b[43m \u001b[49m\u001b[38;5;124;43m'\u001b[39;49m\u001b[38;5;124;43matr\u001b[39;49m\u001b[38;5;124;43m'\u001b[39;49m\u001b[43m)\u001b[49m\n",
      "File \u001b[1;32mc:\\Users\\ibajl\\miniconda3\\envs\\Instru\\Lib\\site-packages\\wfdb\\io\\annotation.py:1953\u001b[0m, in \u001b[0;36mrdann\u001b[1;34m(record_name, extension, sampfrom, sampto, shift_samps, pn_dir, return_label_elements, summarize_labels)\u001b[0m\n\u001b[0;32m   1950\u001b[0m filebytes \u001b[38;5;241m=\u001b[39m load_byte_pairs(record_name, extension, pn_dir)\n\u001b[0;32m   1952\u001b[0m \u001b[38;5;66;03m# Get WFDB annotation fields from the file bytes\u001b[39;00m\n\u001b[1;32m-> 1953\u001b[0m (sample, label_store, subtype, chan, num, aux_note) \u001b[38;5;241m=\u001b[39m \u001b[43mproc_ann_bytes\u001b[49m\u001b[43m(\u001b[49m\n\u001b[0;32m   1954\u001b[0m \u001b[43m    \u001b[49m\u001b[43mfilebytes\u001b[49m\u001b[43m,\u001b[49m\u001b[43m \u001b[49m\u001b[43msampto\u001b[49m\n\u001b[0;32m   1955\u001b[0m \u001b[43m\u001b[49m\u001b[43m)\u001b[49m\n\u001b[0;32m   1957\u001b[0m \u001b[38;5;66;03m# Get the indices of annotations that hold definition information about\u001b[39;00m\n\u001b[0;32m   1958\u001b[0m \u001b[38;5;66;03m# the entire annotation file, and other empty annotations to be removed.\u001b[39;00m\n\u001b[0;32m   1959\u001b[0m potential_definition_inds, rm_inds \u001b[38;5;241m=\u001b[39m get_special_inds(\n\u001b[0;32m   1960\u001b[0m     sample, label_store, aux_note\n\u001b[0;32m   1961\u001b[0m )\n",
      "File \u001b[1;32mc:\\Users\\ibajl\\miniconda3\\envs\\Instru\\Lib\\site-packages\\wfdb\\io\\annotation.py:2154\u001b[0m, in \u001b[0;36mproc_ann_bytes\u001b[1;34m(filebytes, sampto)\u001b[0m\n\u001b[0;32m   2146\u001b[0m \u001b[38;5;66;03m# Process annotations. Iterate across byte pairs.\u001b[39;00m\n\u001b[0;32m   2147\u001b[0m \u001b[38;5;66;03m# Sequence for one ann is:\u001b[39;00m\n\u001b[0;32m   2148\u001b[0m \u001b[38;5;66;03m# - SKIP pair (if any)\u001b[39;00m\n\u001b[0;32m   2149\u001b[0m \u001b[38;5;66;03m# - samp + sym pair\u001b[39;00m\n\u001b[0;32m   2150\u001b[0m \u001b[38;5;66;03m# - other pairs (if any)\u001b[39;00m\n\u001b[0;32m   2151\u001b[0m \u001b[38;5;66;03m# The last byte pair of the file is 0 indicating eof.\u001b[39;00m\n\u001b[0;32m   2152\u001b[0m \u001b[38;5;28;01mwhile\u001b[39;00m bpi \u001b[38;5;241m<\u001b[39m filebytes\u001b[38;5;241m.\u001b[39mshape[\u001b[38;5;241m0\u001b[39m] \u001b[38;5;241m-\u001b[39m \u001b[38;5;241m1\u001b[39m:\n\u001b[0;32m   2153\u001b[0m     \u001b[38;5;66;03m# Get the sample and label_store fields of the current annotation\u001b[39;00m\n\u001b[1;32m-> 2154\u001b[0m     sample_diff, current_label_store, bpi \u001b[38;5;241m=\u001b[39m \u001b[43mproc_core_fields\u001b[49m\u001b[43m(\u001b[49m\u001b[43mfilebytes\u001b[49m\u001b[43m,\u001b[49m\u001b[43m \u001b[49m\u001b[43mbpi\u001b[49m\u001b[43m)\u001b[49m\n\u001b[0;32m   2155\u001b[0m     sample_total \u001b[38;5;241m=\u001b[39m sample_total \u001b[38;5;241m+\u001b[39m sample_diff\n\u001b[0;32m   2156\u001b[0m     sample\u001b[38;5;241m.\u001b[39mappend(sample_total)\n",
      "File \u001b[1;32mc:\\Users\\ibajl\\miniconda3\\envs\\Instru\\Lib\\site-packages\\wfdb\\io\\annotation.py:2240\u001b[0m, in \u001b[0;36mproc_core_fields\u001b[1;34m(filebytes, bpi)\u001b[0m\n\u001b[0;32m   2238\u001b[0m \u001b[38;5;66;03m# Not a skip - it is the actual sample number + annotation type store value\u001b[39;00m\n\u001b[0;32m   2239\u001b[0m label_store \u001b[38;5;241m=\u001b[39m filebytes[bpi, \u001b[38;5;241m1\u001b[39m] \u001b[38;5;241m>>\u001b[39m \u001b[38;5;241m2\u001b[39m\n\u001b[1;32m-> 2240\u001b[0m sample_diff \u001b[38;5;241m+\u001b[39m\u001b[38;5;241m=\u001b[39m \u001b[38;5;28mint\u001b[39m(filebytes[bpi, \u001b[38;5;241m0\u001b[39m] \u001b[38;5;241m+\u001b[39m \u001b[38;5;241;43m256\u001b[39;49m\u001b[43m \u001b[49m\u001b[38;5;241;43m*\u001b[39;49m\u001b[43m \u001b[49m\u001b[43m(\u001b[49m\u001b[43mfilebytes\u001b[49m\u001b[43m[\u001b[49m\u001b[43mbpi\u001b[49m\u001b[43m,\u001b[49m\u001b[43m \u001b[49m\u001b[38;5;241;43m1\u001b[39;49m\u001b[43m]\u001b[49m\u001b[43m \u001b[49m\u001b[38;5;241;43m&\u001b[39;49m\u001b[43m \u001b[49m\u001b[38;5;241;43m3\u001b[39;49m\u001b[43m)\u001b[49m)\n\u001b[0;32m   2241\u001b[0m bpi \u001b[38;5;241m=\u001b[39m bpi \u001b[38;5;241m+\u001b[39m \u001b[38;5;241m1\u001b[39m\n\u001b[0;32m   2243\u001b[0m \u001b[38;5;28;01mreturn\u001b[39;00m sample_diff, label_store, bpi\n",
      "\u001b[1;31mOverflowError\u001b[0m: Python integer 256 out of bounds for uint8"
     ]
    }
   ],
   "source": [
    "annotation = wfdb.rdann(path_with_no_extension, 'atr')"
   ]
  }
 ],
 "metadata": {
  "kernelspec": {
   "display_name": "Instru",
   "language": "python",
   "name": "python3"
  },
  "language_info": {
   "codemirror_mode": {
    "name": "ipython",
    "version": 3
   },
   "file_extension": ".py",
   "mimetype": "text/x-python",
   "name": "python",
   "nbconvert_exporter": "python",
   "pygments_lexer": "ipython3",
   "version": "3.12.7"
  }
 },
 "nbformat": 4,
 "nbformat_minor": 2
}
